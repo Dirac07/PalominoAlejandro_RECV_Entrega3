{
  "nbformat": 4,
  "nbformat_minor": 0,
  "metadata": {
    "colab": {
      "name": "Iris_CV.ipynb",
      "provenance": [],
      "collapsed_sections": []
    },
    "kernelspec": {
      "name": "python3",
      "display_name": "Python 3"
    },
    "language_info": {
      "name": "python"
    }
  },
  "cells": [
    {
      "cell_type": "code",
      "metadata": {
        "colab": {
          "base_uri": "https://localhost:8080/",
          "height": 204
        },
        "id": "46luc8ppaqwP",
        "outputId": "5a45a5ab-5cae-458d-80f6-80ebdd5ae0e2"
      },
      "source": [
        "#--- Carga de las librerias y los datos (PUNTO 1)\n",
        "\n",
        "import pandas as pd\n",
        "import numpy as np\n",
        "import matplotlib.pyplot as plt\n",
        "from sklearn.model_selection import train_test_split\n",
        "from sklearn.neural_network import MLPClassifier\n",
        "from sklearn.metrics import accuracy_score\n",
        "\n",
        "data = pd.read_csv('iris.data')\n",
        "data.columns = ['s_length', 's_width', 'p_length', 'p_width', 'type']\n",
        "\n",
        "data.head()"
      ],
      "execution_count": 261,
      "outputs": [
        {
          "output_type": "execute_result",
          "data": {
            "text/html": [
              "<div>\n",
              "<style scoped>\n",
              "    .dataframe tbody tr th:only-of-type {\n",
              "        vertical-align: middle;\n",
              "    }\n",
              "\n",
              "    .dataframe tbody tr th {\n",
              "        vertical-align: top;\n",
              "    }\n",
              "\n",
              "    .dataframe thead th {\n",
              "        text-align: right;\n",
              "    }\n",
              "</style>\n",
              "<table border=\"1\" class=\"dataframe\">\n",
              "  <thead>\n",
              "    <tr style=\"text-align: right;\">\n",
              "      <th></th>\n",
              "      <th>s_length</th>\n",
              "      <th>s_width</th>\n",
              "      <th>p_length</th>\n",
              "      <th>p_width</th>\n",
              "      <th>type</th>\n",
              "    </tr>\n",
              "  </thead>\n",
              "  <tbody>\n",
              "    <tr>\n",
              "      <th>0</th>\n",
              "      <td>4.9</td>\n",
              "      <td>3.0</td>\n",
              "      <td>1.4</td>\n",
              "      <td>0.2</td>\n",
              "      <td>Iris-setosa</td>\n",
              "    </tr>\n",
              "    <tr>\n",
              "      <th>1</th>\n",
              "      <td>4.7</td>\n",
              "      <td>3.2</td>\n",
              "      <td>1.3</td>\n",
              "      <td>0.2</td>\n",
              "      <td>Iris-setosa</td>\n",
              "    </tr>\n",
              "    <tr>\n",
              "      <th>2</th>\n",
              "      <td>4.6</td>\n",
              "      <td>3.1</td>\n",
              "      <td>1.5</td>\n",
              "      <td>0.2</td>\n",
              "      <td>Iris-setosa</td>\n",
              "    </tr>\n",
              "    <tr>\n",
              "      <th>3</th>\n",
              "      <td>5.0</td>\n",
              "      <td>3.6</td>\n",
              "      <td>1.4</td>\n",
              "      <td>0.2</td>\n",
              "      <td>Iris-setosa</td>\n",
              "    </tr>\n",
              "    <tr>\n",
              "      <th>4</th>\n",
              "      <td>5.4</td>\n",
              "      <td>3.9</td>\n",
              "      <td>1.7</td>\n",
              "      <td>0.4</td>\n",
              "      <td>Iris-setosa</td>\n",
              "    </tr>\n",
              "  </tbody>\n",
              "</table>\n",
              "</div>"
            ],
            "text/plain": [
              "   s_length  s_width  p_length  p_width         type\n",
              "0       4.9      3.0       1.4      0.2  Iris-setosa\n",
              "1       4.7      3.2       1.3      0.2  Iris-setosa\n",
              "2       4.6      3.1       1.5      0.2  Iris-setosa\n",
              "3       5.0      3.6       1.4      0.2  Iris-setosa\n",
              "4       5.4      3.9       1.7      0.4  Iris-setosa"
            ]
          },
          "metadata": {
            "tags": []
          },
          "execution_count": 261
        }
      ]
    },
    {
      "cell_type": "code",
      "metadata": {
        "colab": {
          "base_uri": "https://localhost:8080/",
          "height": 204
        },
        "id": "OiTzQqV6caZd",
        "outputId": "42a3d46a-0764-4cdd-b423-37075877106f"
      },
      "source": [
        "#--- Escogencia de las dos variables importantes y clasificación binaria de los datos\n",
        "\n",
        "x1 = 's_length'\n",
        "x2 = 'p_length'\n",
        "y_t = 'type'\n",
        "\n",
        "data['type_n'] = [1 if x=='Iris-setosa' else 0 for x in data[y_t]] \n",
        "Y = data['type_n']\n",
        "\n",
        "data.head()"
      ],
      "execution_count": 262,
      "outputs": [
        {
          "output_type": "execute_result",
          "data": {
            "text/html": [
              "<div>\n",
              "<style scoped>\n",
              "    .dataframe tbody tr th:only-of-type {\n",
              "        vertical-align: middle;\n",
              "    }\n",
              "\n",
              "    .dataframe tbody tr th {\n",
              "        vertical-align: top;\n",
              "    }\n",
              "\n",
              "    .dataframe thead th {\n",
              "        text-align: right;\n",
              "    }\n",
              "</style>\n",
              "<table border=\"1\" class=\"dataframe\">\n",
              "  <thead>\n",
              "    <tr style=\"text-align: right;\">\n",
              "      <th></th>\n",
              "      <th>s_length</th>\n",
              "      <th>s_width</th>\n",
              "      <th>p_length</th>\n",
              "      <th>p_width</th>\n",
              "      <th>type</th>\n",
              "      <th>type_n</th>\n",
              "    </tr>\n",
              "  </thead>\n",
              "  <tbody>\n",
              "    <tr>\n",
              "      <th>0</th>\n",
              "      <td>4.9</td>\n",
              "      <td>3.0</td>\n",
              "      <td>1.4</td>\n",
              "      <td>0.2</td>\n",
              "      <td>Iris-setosa</td>\n",
              "      <td>1</td>\n",
              "    </tr>\n",
              "    <tr>\n",
              "      <th>1</th>\n",
              "      <td>4.7</td>\n",
              "      <td>3.2</td>\n",
              "      <td>1.3</td>\n",
              "      <td>0.2</td>\n",
              "      <td>Iris-setosa</td>\n",
              "      <td>1</td>\n",
              "    </tr>\n",
              "    <tr>\n",
              "      <th>2</th>\n",
              "      <td>4.6</td>\n",
              "      <td>3.1</td>\n",
              "      <td>1.5</td>\n",
              "      <td>0.2</td>\n",
              "      <td>Iris-setosa</td>\n",
              "      <td>1</td>\n",
              "    </tr>\n",
              "    <tr>\n",
              "      <th>3</th>\n",
              "      <td>5.0</td>\n",
              "      <td>3.6</td>\n",
              "      <td>1.4</td>\n",
              "      <td>0.2</td>\n",
              "      <td>Iris-setosa</td>\n",
              "      <td>1</td>\n",
              "    </tr>\n",
              "    <tr>\n",
              "      <th>4</th>\n",
              "      <td>5.4</td>\n",
              "      <td>3.9</td>\n",
              "      <td>1.7</td>\n",
              "      <td>0.4</td>\n",
              "      <td>Iris-setosa</td>\n",
              "      <td>1</td>\n",
              "    </tr>\n",
              "  </tbody>\n",
              "</table>\n",
              "</div>"
            ],
            "text/plain": [
              "   s_length  s_width  p_length  p_width         type  type_n\n",
              "0       4.9      3.0       1.4      0.2  Iris-setosa       1\n",
              "1       4.7      3.2       1.3      0.2  Iris-setosa       1\n",
              "2       4.6      3.1       1.5      0.2  Iris-setosa       1\n",
              "3       5.0      3.6       1.4      0.2  Iris-setosa       1\n",
              "4       5.4      3.9       1.7      0.4  Iris-setosa       1"
            ]
          },
          "metadata": {
            "tags": []
          },
          "execution_count": 262
        }
      ]
    },
    {
      "cell_type": "code",
      "metadata": {
        "colab": {
          "base_uri": "https://localhost:8080/",
          "height": 280
        },
        "id": "ky0pZVRSeP4p",
        "outputId": "69e08984-5ba7-43e9-96d5-424c984c6334"
      },
      "source": [
        "#--- Creación de las máscaras y visualización de los datos \n",
        "\n",
        "class_1 = data['type_n'] == 1\n",
        "class_0 = data['type_n'] == 0\n",
        "\n",
        "plt.figure(figsize=(4,4))\n",
        "plt.scatter(data[x1][class_1], data[x2][class_1], c='red', label='Iris-setosa')\n",
        "plt.scatter(data[x1][class_0], data[x2][class_0], c='black', label='Other')\n",
        "plt.xlabel(x1)\n",
        "plt.ylabel(x2)\n",
        "plt.legend()\n",
        "plt.show()"
      ],
      "execution_count": 263,
      "outputs": [
        {
          "output_type": "display_data",
          "data": {
            "image/png": "[encoded data removed]",
            "text/plain": [
              "<Figure size 288x288 with 1 Axes>"
            ]
          },
          "metadata": {
            "tags": [],
            "needs_background": "light"
          }
        }
      ]
    },
    {
      "cell_type": "code",
      "metadata": {
        "colab": {
          "base_uri": "https://localhost:8080/"
        },
        "id": "ryo3AMYVhlk9",
        "outputId": "53d2f652-2900-4f60-a065-6d60e9fc71c8"
      },
      "source": [
        "#--- Definimos el Perceptron\n",
        "\n",
        "#--- Inicializamos los pesos en 0\n",
        "b = 0\n",
        "w_1 = 0\n",
        "w_2 = 0\n",
        "\n",
        "#--- Definimos nuestra función de activación, en este caso usamos un Sigmoide\n",
        "def act(z):\n",
        "  return 1/(1 + np.exp(-z))\n",
        "\n",
        "#--- Nuestra función de visualización\n",
        "\n",
        "def y(x):\n",
        " return -(b + w_1*x)/w_2\n",
        "\n",
        "#--- Inicializamos el número de épocas y la rata de aprendizaje\n",
        "n_epochs = 6      # Número de épocas\n",
        "n = 0.5           # Tasa de aprendizaje\n",
        "\n",
        "#--- Esta es la función nuestro perceptron encontrará al final de todas las épocas\n",
        "def y(x):\n",
        " return -(b + w_1*x)/w_2\n",
        "\n",
        "#--- Entrenamos el Perceptron\n",
        "for epoch in range(n_epochs):\n",
        "  for i,j,k in zip(data[x1],data[x2],Y):\n",
        "    \n",
        "    #--- Función de Suma\n",
        "    z = i*w_1 + j*w_2 + b\n",
        "\n",
        "    #--- Función de Activación\n",
        "    sig_z = act(z)\n",
        "\n",
        "    #--- Evaluamos la salida (output)\n",
        "    if sig_z >= 0.5:\n",
        "      out = 1\n",
        "    if sig_z < 0.5:\n",
        "      out = 0\n",
        "    \n",
        "    #--- Calculamos el error\n",
        "    error = k - out\n",
        "\n",
        "    #--- Actualizamos los pesos\n",
        "    b = b + n*error\n",
        "    w_1 += n*error*i\n",
        "    w_2 += n*error*j\n",
        "\n",
        "  print('Epoch [{}/{}], bias: {}, w1: {}, w2: {}'.format(epoch+1,n_epochs,b,w_1,w_2))"
      ],
      "execution_count": 264,
      "outputs": [
        {
          "output_type": "stream",
          "text": [
            "Epoch [1/6], bias: -0.5, w1: -3.5, w2: -2.35\n",
            "Epoch [2/6], bias: 0.0, w1: -2.1999999999999997, w2: -3.35\n",
            "Epoch [3/6], bias: 0.5, w1: -0.8999999999999995, w2: -4.3500000000000005\n",
            "Epoch [4/6], bias: 1.0, w1: 1.5500000000000007, w2: -3.6500000000000004\n",
            "Epoch [5/6], bias: 1.0, w1: 1.5500000000000007, w2: -3.6500000000000004\n",
            "Epoch [6/6], bias: 1.0, w1: 1.5500000000000007, w2: -3.6500000000000004\n"
          ],
          "name": "stdout"
        }
      ]
    },
    {
      "cell_type": "code",
      "metadata": {
        "colab": {
          "base_uri": "https://localhost:8080/",
          "height": 296
        },
        "id": "6fluDILLnTQi",
        "outputId": "641c3e3e-3db7-42f8-f2cf-591510e79332"
      },
      "source": [
        "#-- Finalmente, graficamos nuestros resultados\n",
        "\n",
        "fig = plt.figure(figsize=(4,4))\n",
        "plt.plot(data[x1][class_1],data[x2][class_1],'o', c='red', label='Iris-Setosa')\n",
        "plt.plot(data[x1][class_0],data[x2][class_0],'o', c='black', label='Other')\n",
        "plt.plot(np.sort(data[x1]),y(np.sort(data[x1])),'-', c='green',)\n",
        "plt.xlabel(x1)\n",
        "plt.ylabel(x2)\n",
        "plt.title('bias: {:.3f}, w1: {:.3f}, w2: {:.3f}'.format(b,w_1,w_2))\n",
        "plt.legend()\n",
        "plt.show()"
      ],
      "execution_count": 265,
      "outputs": [
        {
          "output_type": "display_data",
          "data": {
            "image/png": "[encoded data removed]",
            "text/plain": [
              "<Figure size 288x288 with 1 Axes>"
            ]
          },
          "metadata": {
            "tags": [],
            "needs_background": "light"
          }
        }
      ]
    },
    {
      "cell_type": "code",
      "metadata": {
        "colab": {
          "base_uri": "https://localhost:8080/",
          "height": 204
        },
        "id": "uXtO3dvKn3_r",
        "outputId": "f0167379-7ec2-423f-a27f-6439d68948a4"
      },
      "source": [
        "#--- Carga de los datos (PUNTO 2)\n",
        "\n",
        "data = pd.read_csv('iris.data')\n",
        "data.columns = ['s_length', 's_width', 'p_length', 'p_width', 'type']\n",
        "\n",
        "data.head()"
      ],
      "execution_count": 266,
      "outputs": [
        {
          "output_type": "execute_result",
          "data": {
            "text/html": [
              "<div>\n",
              "<style scoped>\n",
              "    .dataframe tbody tr th:only-of-type {\n",
              "        vertical-align: middle;\n",
              "    }\n",
              "\n",
              "    .dataframe tbody tr th {\n",
              "        vertical-align: top;\n",
              "    }\n",
              "\n",
              "    .dataframe thead th {\n",
              "        text-align: right;\n",
              "    }\n",
              "</style>\n",
              "<table border=\"1\" class=\"dataframe\">\n",
              "  <thead>\n",
              "    <tr style=\"text-align: right;\">\n",
              "      <th></th>\n",
              "      <th>s_length</th>\n",
              "      <th>s_width</th>\n",
              "      <th>p_length</th>\n",
              "      <th>p_width</th>\n",
              "      <th>type</th>\n",
              "    </tr>\n",
              "  </thead>\n",
              "  <tbody>\n",
              "    <tr>\n",
              "      <th>0</th>\n",
              "      <td>4.9</td>\n",
              "      <td>3.0</td>\n",
              "      <td>1.4</td>\n",
              "      <td>0.2</td>\n",
              "      <td>Iris-setosa</td>\n",
              "    </tr>\n",
              "    <tr>\n",
              "      <th>1</th>\n",
              "      <td>4.7</td>\n",
              "      <td>3.2</td>\n",
              "      <td>1.3</td>\n",
              "      <td>0.2</td>\n",
              "      <td>Iris-setosa</td>\n",
              "    </tr>\n",
              "    <tr>\n",
              "      <th>2</th>\n",
              "      <td>4.6</td>\n",
              "      <td>3.1</td>\n",
              "      <td>1.5</td>\n",
              "      <td>0.2</td>\n",
              "      <td>Iris-setosa</td>\n",
              "    </tr>\n",
              "    <tr>\n",
              "      <th>3</th>\n",
              "      <td>5.0</td>\n",
              "      <td>3.6</td>\n",
              "      <td>1.4</td>\n",
              "      <td>0.2</td>\n",
              "      <td>Iris-setosa</td>\n",
              "    </tr>\n",
              "    <tr>\n",
              "      <th>4</th>\n",
              "      <td>5.4</td>\n",
              "      <td>3.9</td>\n",
              "      <td>1.7</td>\n",
              "      <td>0.4</td>\n",
              "      <td>Iris-setosa</td>\n",
              "    </tr>\n",
              "  </tbody>\n",
              "</table>\n",
              "</div>"
            ],
            "text/plain": [
              "   s_length  s_width  p_length  p_width         type\n",
              "0       4.9      3.0       1.4      0.2  Iris-setosa\n",
              "1       4.7      3.2       1.3      0.2  Iris-setosa\n",
              "2       4.6      3.1       1.5      0.2  Iris-setosa\n",
              "3       5.0      3.6       1.4      0.2  Iris-setosa\n",
              "4       5.4      3.9       1.7      0.4  Iris-setosa"
            ]
          },
          "metadata": {
            "tags": []
          },
          "execution_count": 266
        }
      ]
    },
    {
      "cell_type": "code",
      "metadata": {
        "id": "gp2PcG1vpB0Z"
      },
      "source": [
        "#--- Cargamos los features y los objetivos\n",
        "\n",
        "X = data.drop(['type'], axis = 'columns')\n",
        "Y = data['type']"
      ],
      "execution_count": 267,
      "outputs": []
    },
    {
      "cell_type": "code",
      "metadata": {
        "colab": {
          "base_uri": "https://localhost:8080/",
          "height": 334
        },
        "id": "SF9pfB6LpSFi",
        "outputId": "50618ac7-56e5-4ef8-9252-aa9f9b5920ca"
      },
      "source": [
        "#--- Visualizamos los objetivos en un histograma\n",
        "\n",
        "fig = plt.figure(figsize=(7,5))\n",
        "plt.hist(Y)\n",
        "plt.ylabel('Counts')\n",
        "plt.xlabel('Type')\n",
        "plt.show()"
      ],
      "execution_count": 268,
      "outputs": [
        {
          "output_type": "display_data",
          "data": {
            "image/png": "[encoded data removed]",
            "text/plain": [
              "<Figure size 504x360 with 1 Axes>"
            ]
          },
          "metadata": {
            "tags": [],
            "needs_background": "light"
          }
        }
      ]
    },
    {
      "cell_type": "code",
      "metadata": {
        "colab": {
          "base_uri": "https://localhost:8080/",
          "height": 334
        },
        "id": "8Ac-UJJPpaqJ",
        "outputId": "efdd428f-27b0-43d6-fdc1-ed98287b0dec"
      },
      "source": [
        "#--- Convertimos nuestro objetivo en números de un sistema terciario\n",
        "\n",
        "Y = np.array(Y)\n",
        "\n",
        "Y[Y=='Iris-setosa'] = 0\n",
        "Y[Y=='Iris-versicolor'] = 1\n",
        "Y[Y=='Iris-virginica'] = 2\n",
        "\n",
        "\n",
        "fig = plt.figure(figsize=(7,5))\n",
        "plt.hist(Y)\n",
        "plt.ylabel('Counts')\n",
        "plt.xlabel('Type')\n",
        "plt.show()"
      ],
      "execution_count": 269,
      "outputs": [
        {
          "output_type": "display_data",
          "data": {
            "image/png": "[encoded data removed]",
            "text/plain": [
              "<Figure size 504x360 with 1 Axes>"
            ]
          },
          "metadata": {
            "tags": [],
            "needs_background": "light"
          }
        }
      ]
    },
    {
      "cell_type": "code",
      "metadata": {
        "id": "13-ls2O6qAdS"
      },
      "source": [
        "#--- Dividimos nuestro dataset en Train/Test\n",
        "\n",
        "X_train, X_test, Y_train, Y_test = train_test_split(X,Y)"
      ],
      "execution_count": 270,
      "outputs": []
    },
    {
      "cell_type": "code",
      "metadata": {
        "colab": {
          "base_uri": "https://localhost:8080/"
        },
        "id": "9PxNqx60qKN6",
        "outputId": "2b892fd7-ba14-468b-804a-73b5398361ec"
      },
      "source": [
        "#--- Utilizamos MLPCLassifier para buscar un modelo de 2 capas\n",
        "\n",
        "model = MLPClassifier(activation='relu',  hidden_layer_sizes=(3, 3), solver='adam', learning_rate_init=0.1)\n",
        "model"
      ],
      "execution_count": 271,
      "outputs": [
        {
          "output_type": "execute_result",
          "data": {
            "text/plain": [
              "MLPClassifier(activation='relu', alpha=0.0001, batch_size='auto', beta_1=0.9,\n",
              "              beta_2=0.999, early_stopping=False, epsilon=1e-08,\n",
              "              hidden_layer_sizes=(3, 3), learning_rate='constant',\n",
              "              learning_rate_init=0.1, max_fun=15000, max_iter=200, momentum=0.9,\n",
              "              n_iter_no_change=10, nesterovs_momentum=True, power_t=0.5,\n",
              "              random_state=None, shuffle=True, solver='adam', tol=0.0001,\n",
              "              validation_fraction=0.1, verbose=False, warm_start=False)"
            ]
          },
          "metadata": {
            "tags": []
          },
          "execution_count": 271
        }
      ]
    },
    {
      "cell_type": "code",
      "metadata": {
        "colab": {
          "base_uri": "https://localhost:8080/"
        },
        "id": "BORBJ0XLqWM5",
        "outputId": "38d7a4d6-4f75-4a41-d63d-2135b9dc5de0"
      },
      "source": [
        "model.fit(X_train, list(Y_train))\n",
        "Y_pred = model.predict(X_test)\n",
        "Y_pred"
      ],
      "execution_count": 272,
      "outputs": [
        {
          "output_type": "execute_result",
          "data": {
            "text/plain": [
              "array([1, 1, 1, 0, 1, 0, 2, 2, 2, 1, 2, 1, 2, 1, 0, 2, 2, 0, 2, 0, 1, 2,\n",
              "       2, 2, 2, 2, 0, 2, 1, 0, 1, 2, 2, 1, 0, 1, 0, 0])"
            ]
          },
          "metadata": {
            "tags": []
          },
          "execution_count": 272
        }
      ]
    },
    {
      "cell_type": "code",
      "metadata": {
        "colab": {
          "base_uri": "https://localhost:8080/"
        },
        "id": "1l5DfYjcqgVr",
        "outputId": "7a91c34a-4024-40be-d8e0-2f0ed9fe66bf"
      },
      "source": [
        "#--- Evaluamos el modelo con el accuracy_score\n",
        "\n",
        "accuracy_score(Y_pred,list(Y_test))"
      ],
      "execution_count": 273,
      "outputs": [
        {
          "output_type": "execute_result",
          "data": {
            "text/plain": [
              "0.9473684210526315"
            ]
          },
          "metadata": {
            "tags": []
          },
          "execution_count": 273
        }
      ]
    },
    {
      "cell_type": "code",
      "metadata": {
        "colab": {
          "base_uri": "https://localhost:8080/"
        },
        "id": "rFZIy6B7vr_g",
        "outputId": "a9258216-fcce-45b9-83b9-681de1471496"
      },
      "source": [
        "#--- Similarmente, para un modelo de 3 capas\n",
        "\n",
        "model = MLPClassifier(activation='relu',  hidden_layer_sizes=(3, 3, 3), solver='adam', learning_rate_init=0.1)\n",
        "model.fit(X_train, list(Y_train))\n",
        "Y_pred = model.predict(X_test)\n",
        "Y_pred"
      ],
      "execution_count": 274,
      "outputs": [
        {
          "output_type": "execute_result",
          "data": {
            "text/plain": [
              "array([1, 1, 1, 0, 1, 0, 2, 2, 2, 1, 1, 1, 2, 1, 0, 2, 1, 0, 2, 0, 1, 1,\n",
              "       2, 2, 2, 2, 0, 2, 1, 0, 1, 2, 2, 1, 0, 1, 0, 0])"
            ]
          },
          "metadata": {
            "tags": []
          },
          "execution_count": 274
        }
      ]
    },
    {
      "cell_type": "code",
      "metadata": {
        "colab": {
          "base_uri": "https://localhost:8080/"
        },
        "id": "g66vOzI_wBkn",
        "outputId": "dabc51ba-11a1-46cf-84d7-0651766e29ed"
      },
      "source": [
        "#--- Y nuevamente lo evaluamos el modelo con el accuracy_score\n",
        "\n",
        "accuracy_score(Y_pred,list(Y_test))"
      ],
      "execution_count": 275,
      "outputs": [
        {
          "output_type": "execute_result",
          "data": {
            "text/plain": [
              "0.9736842105263158"
            ]
          },
          "metadata": {
            "tags": []
          },
          "execution_count": 275
        }
      ]
    }
  ]
}